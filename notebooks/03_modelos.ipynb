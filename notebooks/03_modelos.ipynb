# notebooks/03_modelos.ipynb

import pandas as pd
import numpy as np
import matplotlib.pyplot as plt
from sklearn.model_selection import train_test_split
from sklearn.svm import SVC
from sklearn.metrics import accuracy_score, classification_report, confusion_matrix
from sklearn.preprocessing import StandardScaler
from tensorflow.keras.models import Sequential
from tensorflow.keras.layers import Dense

# Cargar los datos
data = pd.read_csv('../data/tu_archivo.csv')

# Definir las características (X) y la variable objetivo (y)
X = data.drop(columns=['IID', 'Riesgo_Cardiovascular', 'Riesgo_Cardiovascular_Binario'])
y = data['Riesgo_Cardiovascular_Binario']

# Codificar variables categóricas
X = pd.get_dummies(X, columns=['Sexo'], drop_first=True)

# Escalar las características
scaler = StandardScaler()
X_scaled = scaler.fit_transform(X)

# Dividir los datos en entrenamiento y prueba
X_train, X_test, y_train, y_test = train_test_split(X_scaled, y, test_size=0.3, random_state=42)

# Entrenar el modelo SVM
svm_model = SVC(kernel='linear', random_state=42)
svm_model.fit(X_train, y_train)

# Evaluar el modelo SVM
y_pred_svm = svm_model.predict(X_test)
print("Accuracy (SVM):", accuracy_score(y_test, y_pred_svm))
print("Classification Report (SVM):\n", classification_report(y_test, y_pred_svm))
print("Confusion Matrix (SVM):\n", confusion_matrix(y_test, y_pred_svm))

# Entrenar el modelo de Red Neuronal
nn_model = Sequential()
nn_model.add(Dense(64, input_dim=X_train.shape[1], activation='relu'))
nn_model.add(Dense(32, activation='relu'))
nn_model.add(Dense(1, activation='sigmoid'))
nn_model.compile(optimizer='adam', loss='binary_crossentropy', metrics=['accuracy'])

history = nn_model.fit(X_train, y_train, epochs=50, batch_size=32, validation_split=0.2, verbose=1)

# Evaluar el modelo de Red Neuronal
y_pred_nn = (nn_model.predict(X_test) > 0.5).astype(int)
print("Accuracy (Red Neuronal):", accuracy_score(y_test, y_pred_nn))
print("Classification Report (Red Neuronal):\n", classification_report(y_test, y_pred_nn))
print("Confusion Matrix (Red Neuronal):\n", confusion_matrix(y_test, y_pred_nn))

# Graficar la precisión del modelo de Red Neuronal
plt.figure(figsize=(10, 6))
plt.plot(history.history['accuracy'], label='Precisión en entrenamiento')
plt.plot(history.history['val_accuracy'], label='Precisión en validación')
plt.title('Precisión del Modelo de Red Neuronal')
plt.xlabel('Épocas')
plt.ylabel('Precisión')
plt.legend()
plt.show()
