# notebooks/01_analisis_exploratorio.ipynb

import pandas as pd
import matplotlib.pyplot as plt
import seaborn as sns
import numpy as np

# Cargar los datos
data = pd.read_excel('../data/BancoXavantes837.xlsx')

# Mostrar las primeras filas
print(data.head())

# Resumen estadístico
print(data.describe())

# Verificar valores nulos
print(data.isnull().sum())

# Distribución de variables categóricas
print(data['Sexo'].value_counts())

# Histogramas de variables numéricas
data.hist(bins=30, figsize=(15, 10))
plt.show()

# Matriz de correlación
corr_matrix = data.corr()
plt.figure(figsize=(12, 8))
sns.heatmap(corr_matrix, annot=True, cmap='coolwarm')
plt.show()
