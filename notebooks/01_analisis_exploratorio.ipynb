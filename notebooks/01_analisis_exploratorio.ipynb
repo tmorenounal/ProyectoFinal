# notebooks/01_analisis_exploratorio.ipynb

import pandas as pd
import matplotlib.pyplot as plt
import seaborn as sns

# Cargar los datos
data = pd.read_csv('../data/tu_archivo.csv')

# Mostrar las primeras filas
print(data.head())

# Resumen estadístico
print(data.describe())

# Verificar valores nulos
print(data.isnull().sum())

# Distribución de variables categóricas
print(data['Sexo'].value_counts())

# Histogramas de variables numéricas
data.hist(bins=30, figsize=(15, 10))
plt.show()

# Matriz de correlación
corr_matrix = data.corr()
plt.figure(figsize=(12, 8))
sns.heatmap(corr_matrix, annot=True, cmap='coolwarm')
plt.show()
